{
 "cells": [
  {
   "cell_type": "code",
   "execution_count": 10,
   "id": "a3be25b8",
   "metadata": {
    "vscode": {
     "languageId": "plaintext"
    }
   },
   "outputs": [
    {
     "data": {
      "text/html": [
       "<div>\n",
       "<style scoped>\n",
       "    .dataframe tbody tr th:only-of-type {\n",
       "        vertical-align: middle;\n",
       "    }\n",
       "\n",
       "    .dataframe tbody tr th {\n",
       "        vertical-align: top;\n",
       "    }\n",
       "\n",
       "    .dataframe thead th {\n",
       "        text-align: right;\n",
       "    }\n",
       "</style>\n",
       "<table border=\"1\" class=\"dataframe\">\n",
       "  <thead>\n",
       "    <tr style=\"text-align: right;\">\n",
       "      <th></th>\n",
       "      <th>cord_uid</th>\n",
       "      <th>title</th>\n",
       "      <th>abstract</th>\n",
       "      <th>journal</th>\n",
       "      <th>publish_time</th>\n",
       "      <th>year</th>\n",
       "      <th>abstract_word_count</th>\n",
       "    </tr>\n",
       "  </thead>\n",
       "  <tbody>\n",
       "    <tr>\n",
       "      <th>0</th>\n",
       "      <td>abc001</td>\n",
       "      <td>COVID-19 and Public Health</td>\n",
       "      <td>Study of COVID-19 transmission and public heal...</td>\n",
       "      <td>Nature</td>\n",
       "      <td>2020-03-15</td>\n",
       "      <td>2020</td>\n",
       "      <td>9</td>\n",
       "    </tr>\n",
       "    <tr>\n",
       "      <th>1</th>\n",
       "      <td>abc002</td>\n",
       "      <td>Vaccine Development for SARS-CoV-2</td>\n",
       "      <td>The development of vaccines against SARS-CoV-2...</td>\n",
       "      <td>Science</td>\n",
       "      <td>2021-06-10</td>\n",
       "      <td>2021</td>\n",
       "      <td>11</td>\n",
       "    </tr>\n",
       "    <tr>\n",
       "      <th>2</th>\n",
       "      <td>abc003</td>\n",
       "      <td>Machine Learning for COVID-19 Diagnosis</td>\n",
       "      <td>Using machine learning to detect COVID-19 from...</td>\n",
       "      <td>IEEE Transactions</td>\n",
       "      <td>2020-08-20</td>\n",
       "      <td>2020</td>\n",
       "      <td>11</td>\n",
       "    </tr>\n",
       "    <tr>\n",
       "      <th>3</th>\n",
       "      <td>abc004</td>\n",
       "      <td>Impact of Lockdowns on Mental Health</td>\n",
       "      <td>Exploring the mental health consequences of CO...</td>\n",
       "      <td>The Lancet Psychiatry</td>\n",
       "      <td>2020-05-12</td>\n",
       "      <td>2020</td>\n",
       "      <td>10</td>\n",
       "    </tr>\n",
       "    <tr>\n",
       "      <th>4</th>\n",
       "      <td>abc005</td>\n",
       "      <td>Remdesivir Clinical Trials</td>\n",
       "      <td>Clinical trial results for Remdesivir treatmen...</td>\n",
       "      <td>New England Journal of Medicine</td>\n",
       "      <td>2020-07-01</td>\n",
       "      <td>2020</td>\n",
       "      <td>9</td>\n",
       "    </tr>\n",
       "  </tbody>\n",
       "</table>\n",
       "</div>"
      ],
      "text/plain": [
       "  cord_uid                                    title  \\\n",
       "0   abc001               COVID-19 and Public Health   \n",
       "1   abc002       Vaccine Development for SARS-CoV-2   \n",
       "2   abc003  Machine Learning for COVID-19 Diagnosis   \n",
       "3   abc004     Impact of Lockdowns on Mental Health   \n",
       "4   abc005               Remdesivir Clinical Trials   \n",
       "\n",
       "                                            abstract  \\\n",
       "0  Study of COVID-19 transmission and public heal...   \n",
       "1  The development of vaccines against SARS-CoV-2...   \n",
       "2  Using machine learning to detect COVID-19 from...   \n",
       "3  Exploring the mental health consequences of CO...   \n",
       "4  Clinical trial results for Remdesivir treatmen...   \n",
       "\n",
       "                           journal publish_time  year  abstract_word_count  \n",
       "0                           Nature   2020-03-15  2020                    9  \n",
       "1                          Science   2021-06-10  2021                   11  \n",
       "2                IEEE Transactions   2020-08-20  2020                   11  \n",
       "3            The Lancet Psychiatry   2020-05-12  2020                   10  \n",
       "4  New England Journal of Medicine   2020-07-01  2020                    9  "
      ]
     },
     "execution_count": 10,
     "metadata": {},
     "output_type": "execute_result"
    }
   ],
   "source": [
    "import pandas as pd\n",
    "\n",
    "# Load metadata.csv\n",
    "df = pd.read_csv('data/cleaned_metadata.csv')\n",
    "\n",
    "# Display first few rows\n",
    "df.head()\n"
   ]
  },
  {
   "cell_type": "code",
   "execution_count": 11,
   "id": "178850ea",
   "metadata": {
    "vscode": {
     "languageId": "plaintext"
    }
   },
   "outputs": [
    {
     "name": "stdout",
     "output_type": "stream",
     "text": [
      "Data Shape: (10, 7)\n",
      "\n",
      "Data Info:\n",
      "<class 'pandas.core.frame.DataFrame'>\n",
      "RangeIndex: 10 entries, 0 to 9\n",
      "Data columns (total 7 columns):\n",
      " #   Column               Non-Null Count  Dtype \n",
      "---  ------               --------------  ----- \n",
      " 0   cord_uid             10 non-null     object\n",
      " 1   title                10 non-null     object\n",
      " 2   abstract             10 non-null     object\n",
      " 3   journal              10 non-null     object\n",
      " 4   publish_time         10 non-null     object\n",
      " 5   year                 10 non-null     int64 \n",
      " 6   abstract_word_count  10 non-null     int64 \n",
      "dtypes: int64(2), object(5)\n",
      "memory usage: 692.0+ bytes\n",
      "None\n",
      "\n",
      "Missing Values by Column:\n",
      "cord_uid               0\n",
      "title                  0\n",
      "abstract               0\n",
      "journal                0\n",
      "publish_time           0\n",
      "year                   0\n",
      "abstract_word_count    0\n",
      "dtype: int64\n",
      "\n",
      "Numerical Statistics:\n",
      "              year  abstract_word_count\n",
      "count    10.000000            10.000000\n",
      "mean   2020.300000             9.100000\n",
      "std       0.483046             1.197219\n",
      "min    2020.000000             8.000000\n",
      "25%    2020.000000             8.000000\n",
      "50%    2020.000000             9.000000\n",
      "75%    2020.750000             9.750000\n",
      "max    2021.000000            11.000000\n"
     ]
    }
   ],
   "source": [
    "# Display shape and info\n",
    "print(\"Data Shape:\", df.shape)\n",
    "print(\"\\nData Info:\")\n",
    "print(df.info())\n",
    "\n",
    "# Check missing values\n",
    "print(\"\\nMissing Values by Column:\")\n",
    "print(df.isnull().sum())\n",
    "\n",
    "# Display basic stats for numerical columns\n",
    "print(\"\\nNumerical Statistics:\")\n",
    "print(df.describe())\n"
   ]
  },
  {
   "cell_type": "code",
   "execution_count": 12,
   "id": "1e36bea7",
   "metadata": {
    "vscode": {
     "languageId": "plaintext"
    }
   },
   "outputs": [
    {
     "name": "stdout",
     "output_type": "stream",
     "text": [
      "<class 'pandas.core.frame.DataFrame'>\n",
      "RangeIndex: 10 entries, 0 to 9\n",
      "Data columns (total 7 columns):\n",
      " #   Column               Non-Null Count  Dtype         \n",
      "---  ------               --------------  -----         \n",
      " 0   cord_uid             10 non-null     object        \n",
      " 1   title                10 non-null     object        \n",
      " 2   abstract             10 non-null     object        \n",
      " 3   journal              10 non-null     object        \n",
      " 4   publish_time         10 non-null     datetime64[ns]\n",
      " 5   year                 10 non-null     int32         \n",
      " 6   abstract_word_count  10 non-null     int64         \n",
      "dtypes: datetime64[ns](1), int32(1), int64(1), object(4)\n",
      "memory usage: 652.0+ bytes\n"
     ]
    }
   ],
   "source": [
    "# Convert publish_time to datetime\n",
    "df['publish_time'] = pd.to_datetime(df['publish_time'], errors='coerce')\n",
    "\n",
    "# Extract year\n",
    "df['year'] = df['publish_time'].dt.year\n",
    "\n",
    "# Create abstract word count column\n",
    "df['abstract_word_count'] = df['abstract'].apply(lambda x: len(str(x).split()))\n",
    "\n",
    "# Check cleaned data\n",
    "df.info()\n"
   ]
  },
  {
   "cell_type": "code",
   "execution_count": 13,
   "id": "f8683719",
   "metadata": {
    "vscode": {
     "languageId": "plaintext"
    }
   },
   "outputs": [
    {
     "data": {
      "image/png": "[encoded data removed]",
      "text/plain": [
       "<Figure size 1000x500 with 1 Axes>"
      ]
     },
     "metadata": {},
     "output_type": "display_data"
    }
   ],
   "source": [
    "import matplotlib.pyplot as plt\n",
    "\n",
    "year_counts = df['year'].value_counts().sort_index()\n",
    "plt.figure(figsize=(10,5))\n",
    "plt.bar(year_counts.index, year_counts.values, color='skyblue')\n",
    "plt.xlabel('Year')\n",
    "plt.ylabel('Number of Publications')\n",
    "plt.title('Publications by Year')\n",
    "plt.show()\n"
   ]
  },
  {
   "cell_type": "code",
   "execution_count": 14,
   "id": "5076756d",
   "metadata": {
    "vscode": {
     "languageId": "plaintext"
    }
   },
   "outputs": [
    {
     "data": {
      "image/png": "[encoded data removed]",
      "text/plain": [
       "<Figure size 1000x500 with 1 Axes>"
      ]
     },
     "metadata": {},
     "output_type": "display_data"
    }
   ],
   "source": [
    "top_journals = df['journal'].value_counts().head(10)\n",
    "plt.figure(figsize=(10,5))\n",
    "top_journals.plot(kind='bar', color='orange', title='Top Journals Publishing COVID-19 Research')\n",
    "plt.ylabel('Number of Publications')\n",
    "plt.show()\n"
   ]
  },
  {
   "cell_type": "code",
   "execution_count": 15,
   "id": "15e50d68",
   "metadata": {
    "vscode": {
     "languageId": "plaintext"
    }
   },
   "outputs": [
    {
     "name": "stdout",
     "output_type": "stream",
     "text": [
      "Top 20 Words in Titles:\n",
      "[('covid', 5), ('19', 5), ('and', 2), ('health', 2), ('for', 2), ('sars', 2), ('cov', 2), ('2', 2), ('of', 2), ('public', 1), ('vaccine', 1), ('development', 1), ('machine', 1), ('learning', 1), ('diagnosis', 1), ('impact', 1), ('lockdowns', 1), ('on', 1), ('mental', 1), ('remdesivir', 1)]\n"
     ]
    }
   ],
   "source": [
    "from collections import Counter\n",
    "import re\n",
    "\n",
    "all_titles = ' '.join(df['title'].dropna())\n",
    "words = re.findall(r'\\w+', all_titles.lower())\n",
    "word_freq = Counter(words).most_common(20)\n",
    "print(\"Top 20 Words in Titles:\")\n",
    "print(word_freq)\n"
   ]
  },
  {
   "cell_type": "code",
   "execution_count": null,
   "id": "3269c799",
   "metadata": {
    "vscode": {
     "languageId": "plaintext"
    }
   },
   "outputs": [],
   "source": [
    "from wordcloud import WordCloud\n",
    "\n",
    "wordcloud = WordCloud(width=800, height=400, background_color='white').generate(all_titles)\n",
    "plt.figure(figsize=(15,7))\n",
    "plt.imshow(wordcloud, interpolation='bilinear')\n",
    "plt.axis('off')\n",
    "plt.title(\"Word Cloud of Paper Titles\")\n",
    "plt.show()\n"
   ]
  },
  {
   "cell_type": "code",
   "execution_count": 17,
   "id": "c0434c1f",
   "metadata": {
    "vscode": {
     "languageId": "plaintext"
    }
   },
   "outputs": [],
   "source": [
    "# Key insights:\n",
    "# - Total papers: df.shape[0]\n",
    "# - Top journals: top_journals\n",
    "# - Publication trends: year_counts\n",
    "# - Most common words: word_freq\n",
    "#\n",
    "# Challenges:\n",
    "# - Handling missing data\n",
    "# - Large dataset can be slow to process\n",
    "# - Abstract text cleaning\n"
   ]
  }
 ],
 "metadata": {
  "kernelspec": {
   "display_name": "Python 3 (ipykernel)",
   "language": "python",
   "name": "python3"
  },
  "language_info": {
   "codemirror_mode": {
    "name": "ipython",
    "version": 3
   },
   "file_extension": ".py",
   "mimetype": "text/x-python",
   "name": "python",
   "nbconvert_exporter": "python",
   "pygments_lexer": "ipython3",
   "version": "3.13.2"
  }
 },
 "nbformat": 4,
 "nbformat_minor": 5
}
