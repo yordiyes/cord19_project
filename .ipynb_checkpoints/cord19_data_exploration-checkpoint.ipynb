{
 "cells": [
  {
   "cell_type": "code",
   "execution_count": null,
   "id": "a3be25b8",
   "metadata": {
    "vscode": {
     "languageId": "plaintext"
    }
   },
   "outputs": [],
   "source": [
    "import pandas as pd\n",
    "\n",
    "# Load metadata.csv\n",
    "df = pd.read_csv('data/cleaned_metadata.csv')\n",
    "\n",
    "# Display first few rows\n",
    "df.head()\n"
   ]
  },
  {
   "cell_type": "code",
   "execution_count": null,
   "id": "178850ea",
   "metadata": {
    "vscode": {
     "languageId": "plaintext"
    }
   },
   "outputs": [],
   "source": [
    "# Display shape and info\n",
    "print(\"Data Shape:\", df.shape)\n",
    "print(\"\\nData Info:\")\n",
    "print(df.info())\n",
    "\n",
    "# Check missing values\n",
    "print(\"\\nMissing Values by Column:\")\n",
    "print(df.isnull().sum())\n",
    "\n",
    "# Display basic stats for numerical columns\n",
    "print(\"\\nNumerical Statistics:\")\n",
    "print(df.describe())\n"
   ]
  },
  {
   "cell_type": "code",
   "execution_count": null,
   "id": "1e36bea7",
   "metadata": {
    "vscode": {
     "languageId": "plaintext"
    }
   },
   "outputs": [],
   "source": [
    "# Convert publish_time to datetime\n",
    "df['publish_time'] = pd.to_datetime(df['publish_time'], errors='coerce')\n",
    "\n",
    "# Extract year\n",
    "df['year'] = df['publish_time'].dt.year\n",
    "\n",
    "# Create abstract word count column\n",
    "df['abstract_word_count'] = df['abstract'].apply(lambda x: len(str(x).split()))\n",
    "\n",
    "# Check cleaned data\n",
    "df.info()\n"
   ]
  },
  {
   "cell_type": "code",
   "execution_count": null,
   "id": "f8683719",
   "metadata": {
    "vscode": {
     "languageId": "plaintext"
    }
   },
   "outputs": [],
   "source": [
    "import matplotlib.pyplot as plt\n",
    "\n",
    "year_counts = df['year'].value_counts().sort_index()\n",
    "plt.figure(figsize=(10,5))\n",
    "plt.bar(year_counts.index, year_counts.values, color='skyblue')\n",
    "plt.xlabel('Year')\n",
    "plt.ylabel('Number of Publications')\n",
    "plt.title('Publications by Year')\n",
    "plt.show()\n"
   ]
  },
  {
   "cell_type": "code",
   "execution_count": null,
   "id": "5076756d",
   "metadata": {
    "vscode": {
     "languageId": "plaintext"
    }
   },
   "outputs": [],
   "source": [
    "top_journals = df['journal'].value_counts().head(10)\n",
    "plt.figure(figsize=(10,5))\n",
    "top_journals.plot(kind='bar', color='orange', title='Top Journals Publishing COVID-19 Research')\n",
    "plt.ylabel('Number of Publications')\n",
    "plt.show()\n"
   ]
  },
  {
   "cell_type": "code",
   "execution_count": null,
   "id": "15e50d68",
   "metadata": {
    "vscode": {
     "languageId": "plaintext"
    }
   },
   "outputs": [],
   "source": [
    "from collections import Counter\n",
    "import re\n",
    "\n",
    "all_titles = ' '.join(df['title'].dropna())\n",
    "words = re.findall(r'\\w+', all_titles.lower())\n",
    "word_freq = Counter(words).most_common(20)\n",
    "print(\"Top 20 Words in Titles:\")\n",
    "print(word_freq)\n"
   ]
  },
  {
   "cell_type": "code",
   "execution_count": null,
   "id": "3269c799",
   "metadata": {
    "vscode": {
     "languageId": "plaintext"
    }
   },
   "outputs": [],
   "source": [
    "from wordcloud import WordCloud\n",
    "\n",
    "wordcloud = WordCloud(width=800, height=400, background_color='white').generate(all_titles)\n",
    "plt.figure(figsize=(15,7))\n",
    "plt.imshow(wordcloud, interpolation='bilinear')\n",
    "plt.axis('off')\n",
    "plt.title(\"Word Cloud of Paper Titles\")\n",
    "plt.show()\n"
   ]
  },
  {
   "cell_type": "code",
   "execution_count": null,
   "id": "c0434c1f",
   "metadata": {
    "vscode": {
     "languageId": "plaintext"
    }
   },
   "outputs": [],
   "source": [
    "# Key insights:\n",
    "# - Total papers: df.shape[0]\n",
    "# - Top journals: top_journals\n",
    "# - Publication trends: year_counts\n",
    "# - Most common words: word_freq\n",
    "#\n",
    "# Challenges:\n",
    "# - Handling missing data\n",
    "# - Large dataset can be slow to process\n",
    "# - Abstract text cleaning\n"
   ]
  }
 ],
 "metadata": {
  "language_info": {
   "name": "python"
  }
 },
 "nbformat": 4,
 "nbformat_minor": 5
}
